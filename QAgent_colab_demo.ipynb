{
 "cells": [
  {
   "cell_type": "markdown",
   "id": "9668985f",
   "metadata": {},
   "source": [
    "# 🤖 QAgent Colab Demo\n",
    "Run your AI test agent directly in Google Colab!"
   ]
  },
  {
   "cell_type": "code",
   "execution_count": null,
   "id": "0634b196",
   "metadata": {},
   "outputs": [],
   "source": [
    "!pip install torch gym streamlit pillow imageio matplotlib git+https://github.com/tensorzero/tensorzero.git\n",
    "!playwright install chromium\n"
   ]
  },
  {
   "cell_type": "markdown",
   "id": "3fd6f266",
   "metadata": {},
   "source": [
    "## 📁 Clone Your QAgent Repo or Upload Files"
   ]
  },
  {
   "cell_type": "code",
   "execution_count": null,
   "id": "3223dafb",
   "metadata": {},
   "outputs": [],
   "source": [
    "# If hosted on GitHub:\n",
    "# !git clone https://github.com/YOUR_USERNAME/qagent.git\n",
    "# %cd qagent\n",
    "\n",
    "# Or upload files directly using the Colab file manager\n",
    "from google.colab import files\n",
    "uploaded = files.upload()\n"
   ]
  },
  {
   "cell_type": "markdown",
   "id": "5048c839",
   "metadata": {},
   "source": [
    "## 🧠 Load and Run Your Agent"
   ]
  },
  {
   "cell_type": "code",
   "execution_count": null,
   "id": "2bb45387",
   "metadata": {},
   "outputs": [],
   "source": [
    "from floodsmart_env_playwright_vision import FloodSmartPlaywrightVisionEnv\n",
    "from cnn_dqn_tensorzero_agent import VisionDQNAgent\n",
    "from utils import save_gif_from_frames, plot_rewards\n",
    "from PIL import Image\n",
    "import torch\n",
    "\n",
    "env = FloodSmartPlaywrightVisionEnv()\n",
    "state_shape = env.observation_space.shape\n",
    "action_dim = env.action_space.n\n",
    "agent = VisionDQNAgent(env, state_shape, action_dim)\n",
    "\n",
    "# Load trained model\n",
    "agent.model.load_state_dict(torch.load(\"models/qagent_cnn.pt\", map_location=\"cpu\"))\n",
    "agent.model.eval()\n"
   ]
  },
  {
   "cell_type": "markdown",
   "id": "75d6733a",
   "metadata": {},
   "source": [
    "## ▶️ Run One Episode and Record GIF"
   ]
  },
  {
   "cell_type": "code",
   "execution_count": null,
   "id": "69914332",
   "metadata": {},
   "outputs": [],
   "source": [
    "frames = []\n",
    "state = env.reset()\n",
    "done = False\n",
    "steps = 0\n",
    "total_reward = 0\n",
    "\n",
    "while not done and steps < 50:\n",
    "    action = agent.act(state)\n",
    "    next_state, reward, done, _ = env.step(action)\n",
    "    img = Image.fromarray(state[:, :, :3])\n",
    "    frames.append(img)\n",
    "    state = next_state\n",
    "    total_reward += reward\n",
    "    steps += 1\n",
    "\n",
    "save_gif_from_frames(frames, \"qagent_episode.gif\")\n",
    "env.close()\n",
    "\n",
    "print(\"Total reward:\", total_reward)\n"
   ]
  },
  {
   "cell_type": "markdown",
   "id": "eaf5b77d",
   "metadata": {},
   "source": [
    "## 🎞️ View Replay"
   ]
  },
  {
   "cell_type": "code",
   "execution_count": null,
   "id": "342af91f",
   "metadata": {},
   "outputs": [],
   "source": [
    "from IPython.display import Image as IPyImage\n",
    "from IPython.display import display\n",
    "\n",
    "display(IPyImage(filename=\"qagent_episode.gif\"))\n"
   ]
  }
 ],
 "metadata": {},
 "nbformat": 4,
 "nbformat_minor": 5
}